{
 "cells": [
  {
   "cell_type": "markdown",
   "metadata": {},
   "source": [
    "# MAP 512 : Tatouage numérique par code Tardos"
   ]
  },
  {
   "cell_type": "code",
   "execution_count": 1,
   "metadata": {},
   "outputs": [],
   "source": [
    "import numpy as np\n",
    "import numpy.random as npr\n",
    "\n",
    "m = 15\n",
    "n = 30\n",
    "t = 0.1"
   ]
  },
  {
   "cell_type": "markdown",
   "metadata": {},
   "source": [
    "## Code de Tardos\n",
    "Cette section propose plusieurs fonctions pour mettre en application la méthode proposée par Tardos.\n",
    "- *matrice_identifiants* calcule une matrice de $n$ identifiants de taille $m$ par la méthode de Tardos. Les paramètres $p_i$ de Bernouilli de chaque bit de l'identifiant sont tirés selon la loi de densité $f(p) = \\frac{Cte}{\\sqrt{p(1-p)}}\\mathbb{1}_{[t,1-t]}(p)$. On doit donc avoir $t<\\frac{1}{2}$.\n",
    "- *score_tardos* calcule le score de Tardos de l'identifiant $x$ par rapport à $y$ sachant la distribution des $p_i$."
   ]
  },
  {
   "cell_type": "markdown",
   "metadata": {},
   "source": [
    "### Calcul de la fonction de répartition de la loi de densité $f$\n",
    "Le chagement de variable $q=\\sqrt{p}$ donne :\n",
    "$$\\int_t^x{f\\left(p\\right)dp} = \\int_t^x{\\frac{Cte\\cdot dp}{\\sqrt{p(1-p)}}} = \\int_\\sqrt{t}^\\sqrt{x}{\\frac{Cte\\cdot dq}{2\\sqrt{(1-q^2)}}} = 2\\cdot Cte\\left[Arcsin\\left(\\sqrt{x}\\right)-Arcsin\\left(\\sqrt{t}\\right)\\right]$$\n",
    "Donc $Cte = \\frac{1}{2\\left[Arcsin\\left(\\sqrt{1-t}\\right)-Arcsin\\left(\\sqrt{t}\\right)\\right]}$\n",
    "et la fonction de répartition de cette loi vaut $F(x)=\\frac{Arcsin\\left(\\sqrt{x}\\right)-Arcsin\\left(\\sqrt{t}\\right)}{Arcsin\\left(\\sqrt{1-t}\\right)-Arcsin\\left(\\sqrt{t}\\right)}$ sur $[t,1-t]$.  \n",
    "Puis $F^{-1}(u)=sin^2\\left[Arcsin\\left(\\sqrt{t}\\right)+u\\cdot\\left(Arcsin\\left(\\sqrt{1-t}\\right)-Arcsin\\left(\\sqrt{t}\\right)\\right)\\right]$."
   ]
  },
  {
   "cell_type": "code",
   "execution_count": 33,
   "metadata": {},
   "outputs": [],
   "source": [
    "def matrice_identifiants(n,m,t):\n",
    "    # On doit avoir t < 0.5\n",
    "    u = npr.rand(m)\n",
    "    p = np.sin(np.arcsin(np.sqrt(t)) + u*(np.arcsin(np.sqrt(1-t))-np.arcsin(np.sqrt(t))))\n",
    "    p = p*p\n",
    "    X = np.array([npr.binomial(1,p) for i in range(n)])\n",
    "    return p,X\n",
    "\n",
    "def score_tardos(x,y,p):\n",
    "    return np.sum((1-2*(x*(1-y)+y*(1-x)))*((np.sqrt((1-p)/p))**(2*y-1)))"
   ]
  },
  {
   "cell_type": "code",
   "execution_count": 44,
   "metadata": {},
   "outputs": [
    {
     "data": {
      "text/plain": [
       "-3.0651202460295366"
      ]
     },
     "execution_count": 44,
     "metadata": {},
     "output_type": "execute_result"
    }
   ],
   "source": [
    "p,X = matrice_identifiants(n, m, t)\n",
    "score_tardos(npr.rand(m), X[0], p)"
   ]
  },
  {
   "cell_type": "markdown",
   "metadata": {},
   "source": [
    "## Monte Carlo naif pour trouver la p-value\n",
    "Soit $y$ un identifiant trouvé dans une copie pirate et $x$ l'identifiant d'un utilisateur.  \n",
    "On suppose les $p_i$ connus.  \n",
    "Quelle est la probabilité $p_x$ qu'un innocent ai un score supérieur à celui de x ?  \n",
    "Pour répondre à cette question nous utiliserons un estimateur Monte Carlo naïf :\n",
    "$$\\hat{p_x}=\\frac{1}{N}\\overset{N}{\\underset{k = 1}\\sum}{\\mathbb{1}_{S\\left(X_k\\right)\\geq S(x)}}\\ \\ \\text{avec}\\ \\ X_k \\overset{iid}{\\sim}\\left[\\mathcal{Bernoulli}(p_i)\\right]_{1\\leq i\\leq m}$$"
   ]
  },
  {
   "cell_type": "code",
   "execution_count": 46,
   "metadata": {},
   "outputs": [],
   "source": [
    "def MC_naif(N,p,x,y):\n",
    "    score = np.array([score_tardos(npr.binomial(1,p),y,p) for i in range(N)])\n",
    "    return np.average(score >= score_tardos(x,y,p))"
   ]
  },
  {
   "cell_type": "code",
   "execution_count": 47,
   "metadata": {},
   "outputs": [
    {
     "data": {
      "text/plain": [
       "0.8491"
      ]
     },
     "execution_count": 47,
     "metadata": {},
     "output_type": "execute_result"
    }
   ],
   "source": [
    "MC_naif(10000, p, X[0], npr.rand(m))"
   ]
  },
  {
   "cell_type": "code",
   "execution_count": null,
   "metadata": {},
   "outputs": [],
   "source": []
  }
 ],
 "metadata": {
  "kernelspec": {
   "display_name": "Python 3",
   "language": "python",
   "name": "python3"
  },
  "language_info": {
   "codemirror_mode": {
    "name": "ipython",
    "version": 3
   },
   "file_extension": ".py",
   "mimetype": "text/x-python",
   "name": "python",
   "nbconvert_exporter": "python",
   "pygments_lexer": "ipython3",
   "version": "3.7.0"
  }
 },
 "nbformat": 4,
 "nbformat_minor": 2
}
