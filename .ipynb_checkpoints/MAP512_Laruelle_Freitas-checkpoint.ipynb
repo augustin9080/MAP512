{
 "cells": [
  {
   "cell_type": "markdown",
   "metadata": {},
   "source": [
    "# MAP 512 : Tatouage numérique par code Tardos"
   ]
  },
  {
   "cell_type": "code",
   "execution_count": 31,
   "metadata": {},
   "outputs": [],
   "source": [
    "import numpy as np\n",
    "import numpy.random as npr\n",
    "\n",
    "m = 1000 # Taille du tatouage : Fixée par la capacité d'accueil du support (doit être grrand pour que les pi suivent bien la distribution)\n",
    "n = 1000000 # Nombre d'utilisateurs : Evolue au fur et à mesure que des utilisateurs se rajoutent\n",
    "t = 1/300\n",
    "c = 10 # Taille de la collusion maximale considérée"
   ]
  },
  {
   "cell_type": "markdown",
   "metadata": {},
   "source": [
    "## Code de Tardos\n",
    "Cette section propose plusieurs fonctions pour mettre en application la méthode proposée par Tardos.\n",
    "- *matrice_identifiants* calcule une matrice de $n$ identifiants de taille $m$ par la méthode de Tardos. Les paramètres $p_i$ de Bernouilli de chaque bit de l'identifiant sont tirés selon la loi de densité $f(p) = \\frac{Cte}{\\sqrt{p(1-p)}}\\mathbb{1}_{[t,1-t]}(p)$. On doit donc avoir $t<\\frac{1}{2}$.\n",
    "- *score_tardos* calcule le score de Tardos de l'identifiant $x$ par rapport à $y$ sachant la distribution des $p_i$."
   ]
  },
  {
   "cell_type": "markdown",
   "metadata": {},
   "source": [
    "### Calcul de la fonction de répartition de la loi de densité $f$\n",
    "Le chagement de variable $q=\\sqrt{p}$ donne :\n",
    "$$\\int_t^x{f\\left(p\\right)dp} = \\int_t^x{\\frac{Cte\\cdot dp}{\\sqrt{p(1-p)}}} = \\int_\\sqrt{t}^\\sqrt{x}{\\frac{Cte\\cdot dq}{2\\sqrt{(1-q^2)}}} = 2\\cdot Cte\\left[Arcsin\\left(\\sqrt{x}\\right)-Arcsin\\left(\\sqrt{t}\\right)\\right]$$\n",
    "Donc $Cte = \\frac{1}{2\\left[Arcsin\\left(\\sqrt{1-t}\\right)-Arcsin\\left(\\sqrt{t}\\right)\\right]}$\n",
    "et la fonction de répartition de cette loi vaut $F(x)=\\frac{Arcsin\\left(\\sqrt{x}\\right)-Arcsin\\left(\\sqrt{t}\\right)}{Arcsin\\left(\\sqrt{1-t}\\right)-Arcsin\\left(\\sqrt{t}\\right)}$ sur $[t,1-t]$.  \n",
    "Puis $F^{-1}(u)=sin^2\\left[Arcsin\\left(\\sqrt{t}\\right)+u\\cdot\\left(Arcsin\\left(\\sqrt{1-t}\\right)-Arcsin\\left(\\sqrt{t}\\right)\\right)\\right]$."
   ]
  },
  {
   "cell_type": "code",
   "execution_count": 32,
   "metadata": {},
   "outputs": [],
   "source": [
    "def matrice_identifiants(n,m,t):\n",
    "    # On doit avoir t < 0.5\n",
    "    u = npr.rand(m)\n",
    "    p = np.sin(np.arcsin(np.sqrt(t)) + u*(np.arcsin(np.sqrt(1-t))-np.arcsin(np.sqrt(t))))\n",
    "    p = p*p\n",
    "    X = np.array(npr.binomial(1,p,(n,m)))\n",
    "    return p,X\n",
    "\n",
    "def score_tardos(x,y,p):\n",
    "    return np.sum((1-2*(x*(1-y)+y*(1-x)))*((np.sqrt((1-p)/p))**(2*y-1)))"
   ]
  },
  {
   "cell_type": "code",
   "execution_count": 33,
   "metadata": {},
   "outputs": [
    {
     "data": {
      "text/plain": [
       "10.652204186571511"
      ]
     },
     "execution_count": 33,
     "metadata": {},
     "output_type": "execute_result"
    }
   ],
   "source": [
    "p,X = matrice_identifiants(n, m, t)\n",
    "score_tardos(npr.rand(m), X[0], p)"
   ]
  },
  {
   "cell_type": "markdown",
   "metadata": {},
   "source": [
    "## Monte Carlo naïf pour trouver la p-valeur\n",
    "Soit $y$ un identifiant trouvé dans une copie pirate et $x$ l'identifiant d'un utilisateur.  \n",
    "On suppose les $p_i$ connus.  \n",
    "Quelle est la probabilité $p_x$ qu'un innocent ai un score supérieur à celui de x ?  \n",
    "Pour répondre à cette question nous utiliserons un estimateur Monte Carlo naïf :\n",
    "$$\\hat{p_x}=\\frac{1}{N}\\overset{N}{\\underset{k = 1}\\sum}{\\mathbb{1}_{S\\left(X_k\\right)\\geq S(x)}}\\ \\ \\text{avec}\\ \\ X_k \\overset{iid}{\\sim}\\left[\\mathcal{Bernoulli}(p_i)\\right]_{1\\leq i\\leq m}$$"
   ]
  },
  {
   "cell_type": "code",
   "execution_count": 6,
   "metadata": {},
   "outputs": [],
   "source": [
    "def MC_naif(N,p,x,y):\n",
    "    score = np.array([score_tardos(npr.binomial(1,p),y,p) for i in range(N)])\n",
    "    return np.average(score >= score_tardos(x,y,p))"
   ]
  },
  {
   "cell_type": "code",
   "execution_count": 47,
   "metadata": {},
   "outputs": [
    {
     "data": {
      "text/plain": [
       "0.8491"
      ]
     },
     "execution_count": 47,
     "metadata": {},
     "output_type": "execute_result"
    }
   ],
   "source": [
    "MC_naif(10000, p, X[0], npr.rand(m))"
   ]
  },
  {
   "cell_type": "markdown",
   "metadata": {},
   "source": [
    "## Stratégie de la collusion\n",
    "Nous allons proposer et comparer 3 stratégies pour la collusion :\n",
    "- *vote_majoritaire* : suit le principe du vote majoritaire\n",
    "- *entrelacement* : un membre de la collusion est tiré uniformément pour chaque bit\n",
    "- *pile_ou_face* : à chaque bit repérable par la collusion est attribué la valeur 1 avec probabilité $\\frac{1}{2}$  \n",
    "\n",
    "Nous rappelons que ces 3 stratégies respectent la *marking assumption* qui stipule : $$\\forall i\\in[|1,m|]  \\ \\ X_{1i}=X_{2i}=\\cdots=X_{ci}\\Rightarrow\\rho_{C}(X)_{i} = X_{1i}$$\n",
    "Avec $C = [|1,c|]$ la collusion et $\\rho_C$ leur strategie."
   ]
  },
  {
   "cell_type": "code",
   "execution_count": 29,
   "metadata": {},
   "outputs": [],
   "source": [
    "def vote_majoritaire(C):\n",
    "    return np.round(np.average(C,axis=0))\n",
    "\n",
    "def entrelacement(C):\n",
    "    try:\n",
    "        m = len(C[0])\n",
    "    except:\n",
    "        print(\"Collusion vide\")\n",
    "        return np.array([])\n",
    "    c = len(C)\n",
    "    u = npr.randint(low=0, high=c, size=m)\n",
    "    return C[u,:].diagonal()\n",
    "\n",
    "def pile_ou_face(C):\n",
    "    try:\n",
    "        m = len(C[0])\n",
    "    except:\n",
    "        print(\"Collusion vide\")\n",
    "        return np.array([])\n",
    "    u = npr.randint(low=0, high=2, size=m)\n",
    "    mask = C[0] == np.average(C,axis=0)\n",
    "    for i in range(m):\n",
    "        if mask[i]:\n",
    "            u[i] = C[0][i]\n",
    "    return u\n",
    "    "
   ]
  },
  {
   "cell_type": "code",
   "execution_count": 30,
   "metadata": {},
   "outputs": [
    {
     "data": {
      "text/plain": [
       "array([0, 0, 0, 0, 1, 0, 1, 1, 0, 1, 0, 0, 1, 0, 1])"
      ]
     },
     "execution_count": 30,
     "metadata": {},
     "output_type": "execute_result"
    }
   ],
   "source": [
    "C = X[0:3]\n",
    "vote_majoritaire(C)\n",
    "entrelacement(C)\n",
    "pile_ou_face(C)"
   ]
  },
  {
   "cell_type": "markdown",
   "metadata": {},
   "source": [
    "## Distribution empirique des scores des innocents\n",
    "Le but de cette partie est de fournir une repésentation empirique de la distribution des scores des innocents face à une réponse pirate trouvée, et de la comparer à celles des membres de la collusion.  \n",
    "Cette étude se fait pour les trois stratégies envisagées ci-dessus."
   ]
  },
  {
   "cell_type": "code",
   "execution_count": null,
   "metadata": {},
   "outputs": [],
   "source": []
  }
 ],
 "metadata": {
  "kernelspec": {
   "display_name": "Python 3",
   "language": "python",
   "name": "python3"
  },
  "language_info": {
   "codemirror_mode": {
    "name": "ipython",
    "version": 3
   },
   "file_extension": ".py",
   "mimetype": "text/x-python",
   "name": "python",
   "nbconvert_exporter": "python",
   "pygments_lexer": "ipython3",
   "version": "3.7.0"
  }
 },
 "nbformat": 4,
 "nbformat_minor": 2
}
